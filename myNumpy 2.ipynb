{
 "cells": [
  {
   "cell_type": "code",
   "execution_count": 5,
   "metadata": {},
   "outputs": [],
   "source": [
    "import numpy as np"
   ]
  },
  {
   "cell_type": "code",
   "execution_count": 6,
   "metadata": {},
   "outputs": [
    {
     "data": {
      "text/plain": [
       "array([[1, 2, 3],\n",
       "       [4, 5, 6],\n",
       "       [7, 8, 9]], dtype=int64)"
      ]
     },
     "execution_count": 6,
     "metadata": {},
     "output_type": "execute_result"
    }
   ],
   "source": [
    "a=np.array([[1,2,3],[4,5,6],[7,8,9]],dtype=\"int64\")\n",
    "a"
   ]
  },
  {
   "cell_type": "code",
   "execution_count": 7,
   "metadata": {},
   "outputs": [
    {
     "data": {
      "text/plain": [
       "array([7, 8, 9], dtype=int64)"
      ]
     },
     "execution_count": 7,
     "metadata": {},
     "output_type": "execute_result"
    }
   ],
   "source": [
    "a.max(axis=0)"
   ]
  },
  {
   "cell_type": "code",
   "execution_count": 8,
   "metadata": {},
   "outputs": [
    {
     "data": {
      "text/plain": [
       "array([[ 2,  6, 12],\n",
       "       [ 8, 15, 24],\n",
       "       [14, 24, 36]], dtype=int64)"
      ]
     },
     "execution_count": 8,
     "metadata": {},
     "output_type": "execute_result"
    }
   ],
   "source": [
    "a*[[2,3,4]]"
   ]
  },
  {
   "cell_type": "code",
   "execution_count": 9,
   "metadata": {},
   "outputs": [
    {
     "data": {
      "text/plain": [
       "array([[ 2,  4,  6],\n",
       "       [12, 15, 18],\n",
       "       [28, 32, 36]], dtype=int64)"
      ]
     },
     "execution_count": 9,
     "metadata": {},
     "output_type": "execute_result"
    }
   ],
   "source": [
    "a*[[2],[3],[4]]"
   ]
  },
  {
   "cell_type": "code",
   "execution_count": 10,
   "metadata": {},
   "outputs": [
    {
     "data": {
      "text/plain": [
       "array([3, 6, 9], dtype=int64)"
      ]
     },
     "execution_count": 10,
     "metadata": {},
     "output_type": "execute_result"
    }
   ],
   "source": [
    "a.max(axis=1)"
   ]
  },
  {
   "cell_type": "code",
   "execution_count": 14,
   "metadata": {},
   "outputs": [
    {
     "data": {
      "text/plain": [
       "[0, 2]"
      ]
     },
     "execution_count": 14,
     "metadata": {},
     "output_type": "execute_result"
    }
   ],
   "source": [
    "b=z[:2]\n",
    "b"
   ]
  },
  {
   "cell_type": "code",
   "execution_count": null,
   "metadata": {},
   "outputs": [],
   "source": [
    "e=z[1:2,1:2]\n",
    "e=b.max()\n"
   ]
  },
  {
   "cell_type": "code",
   "execution_count": null,
   "metadata": {},
   "outputs": [],
   "source": [
    "z[0]"
   ]
  },
  {
   "cell_type": "code",
   "execution_count": null,
   "metadata": {},
   "outputs": [],
   "source": [
    "z=np.array([[1,2,3,4,5],[9,10,7,6,8],[15,12,14,13,11],[19,18,20,16,17],[24,22,25,21,23]],dtype=\"int64\")\n",
    "z"
   ]
  },
  {
   "cell_type": "code",
   "execution_count": null,
   "metadata": {},
   "outputs": [],
   "source": [
    "d=np.ones((5,5),dtype=\"int64\")\n",
    "d"
   ]
  },
  {
   "cell_type": "code",
   "execution_count": null,
   "metadata": {},
   "outputs": [],
   "source": [
    "\n",
    "for x in range(5):\n",
    "    for y in range(5):\n",
    "        if x==0:\n",
    "            d[x][y]=z[x][y]\n",
    "        elif y==0:\n",
    "            d[x][y]=z[x][y]\n",
    "        else:\n",
    "            d[x][y]=max(z[x][y-1],z[x-1][y-1],z[x-1][y])\n",
    "print(d)"
   ]
  },
  {
   "cell_type": "code",
   "execution_count": null,
   "metadata": {},
   "outputs": [],
   "source": [
    "s=np.array(A)\n",
    "print(s)\n",
    "t=s.reshape(5,5)\n",
    "t"
   ]
  },
  {
   "cell_type": "code",
   "execution_count": null,
   "metadata": {},
   "outputs": [],
   "source": [
    "def max_array(m,n,main_arr,dummy_arr):\n",
    "    m=int(input(\"Enter no. of rows    : \"))\n",
    "    n=int(input(\"Enter no. of columns : \"))\n",
    "    total=m*n\n",
    "    l=[input(\"enter the value for index no. {} : \".format(i)) for i in range(total)]\n",
    "    arr=np.array(l,dtype=\"int64\")\n",
    "    main_arr=arr.reshape(m,n)\n",
    "    print(\"\\nThe main array is : \\n{}\\n\".format(main_arr))\n",
    "    dummy_arr=np.ones((m,n),dtype=\"int64\")\n",
    "    for x in range(m):\n",
    "        for y in range(n):\n",
    "            if x==0:\n",
    "                dummy_arr[x,y]=main_arr[x,y]\n",
    "            elif y==0:\n",
    "                dummy_arr[x,y]=main_arr[x,y]\n",
    "            else:\n",
    "                dummy_arr[x,y]=max(main_arr[x,y-1],main_arr[x-1,y-1],main_arr[x-1,y])\n",
    "    print(\"Required array :\\n{}\".format(dummy_arr))\n",
    "max_array(m,n,main_arr,dummy_arr)"
   ]
  },
  {
   "cell_type": "code",
   "execution_count": null,
   "metadata": {},
   "outputs": [],
   "source": [
    "z"
   ]
  },
  {
   "cell_type": "code",
   "execution_count": null,
   "metadata": {},
   "outputs": [],
   "source": [
    "x=np.arange(0,9)\n",
    "a=np.array([x,np.ones(9)])\n",
    "a"
   ]
  },
  {
   "cell_type": "code",
   "execution_count": null,
   "metadata": {},
   "outputs": [],
   "source": [
    "m_a=np.array([[1,2,3],[4,5,6],[7,8,9]],dtype=\"int64\")\n",
    "d_a=np.ones((3,3),dtype=\"int64\")"
   ]
  },
  {
   "cell_type": "code",
   "execution_count": null,
   "metadata": {},
   "outputs": [],
   "source": [
    "a=np.arange(1,17)\n",
    "print(a,\"\\n\")\n",
    "print(\"The dimension of the array : \",a.ndim,\"\\n\")\n",
    "b=a.reshape(4,2,2)\n",
    "print(b,\"\\n\")\n",
    "print(\"The dimension of the array : \",b.ndim,\"\\n\")\n",
    "c=np.ones((3,3),dtype=\"int64\")\n",
    "print(f\"itemsize for {c.dtype} is {c.itemsize} bytes \\n\")"
   ]
  },
  {
   "cell_type": "code",
   "execution_count": null,
   "metadata": {},
   "outputs": [],
   "source": [
    "a={}\n",
    "b=\"geeksforgeeks\"\n",
    "for i in b:\n",
    "    if i in a:\n",
    "        a[i]+=1\n",
    "    else:\n",
    "        a[i]=1\n",
    "print(a)"
   ]
  },
  {
   "cell_type": "code",
   "execution_count": null,
   "metadata": {},
   "outputs": [],
   "source": [
    "import numpy as np\n",
    "import time as t\n",
    "value =100\n",
    "def python_version():\n",
    "    t1=t.time()\n",
    "    x=range(value)\n",
    "    y=range(value)\n",
    "    z=[x[i]+y[i] for i in range(len(x))]\n",
    "    return t1\n",
    "\n",
    "def numpy_version():\n",
    "    t2=t.time()\n",
    "    a=np.arange(value)\n",
    "    b=np.arange(value)\n",
    "    c=a+b\n",
    "    return t2\n",
    "print(f\"python version speed : {python_version()}\\nnumpy version speed : {numpy_version()}\")\n",
    "print(f\"numpy is {python_version()/numpy_version()} times faster than python\")"
   ]
  }
 ],
 "metadata": {
  "kernelspec": {
   "display_name": "Python 3",
   "language": "python",
   "name": "python3"
  },
  "language_info": {
   "codemirror_mode": {
    "name": "ipython",
    "version": 3
   },
   "file_extension": ".py",
   "mimetype": "text/x-python",
   "name": "python",
   "nbconvert_exporter": "python",
   "pygments_lexer": "ipython3",
   "version": "3.8.0"
  }
 },
 "nbformat": 4,
 "nbformat_minor": 4
}
