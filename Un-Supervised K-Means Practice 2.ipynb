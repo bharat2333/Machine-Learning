{
 "cells": [
  {
   "cell_type": "code",
   "execution_count": 17,
   "metadata": {},
   "outputs": [],
   "source": [
    "import numpy as np\n",
    "import pandas as pd\n",
    "import matplotlib.pyplot as plt\n",
    "from sklearn.cluster import KMeans"
   ]
  },
  {
   "cell_type": "code",
   "execution_count": 2,
   "metadata": {},
   "outputs": [],
   "source": [
    "a=np.array([-3.0,-3.0])"
   ]
  },
  {
   "cell_type": "code",
   "execution_count": 32,
   "metadata": {},
   "outputs": [
    {
     "data": {
      "text/plain": [
       "(2,)"
      ]
     },
     "execution_count": 32,
     "metadata": {},
     "output_type": "execute_result"
    }
   ],
   "source": [
    "a.shape"
   ]
  },
  {
   "cell_type": "code",
   "execution_count": 13,
   "metadata": {},
   "outputs": [],
   "source": [
    "b=a.reshape(1,2)"
   ]
  },
  {
   "cell_type": "code",
   "execution_count": 15,
   "metadata": {},
   "outputs": [
    {
     "data": {
      "text/plain": [
       "array([[-3., -3.]])"
      ]
     },
     "execution_count": 15,
     "metadata": {},
     "output_type": "execute_result"
    }
   ],
   "source": [
    "b"
   ]
  },
  {
   "cell_type": "code",
   "execution_count": 31,
   "metadata": {},
   "outputs": [
    {
     "data": {
      "text/plain": [
       "(1, 2)"
      ]
     },
     "execution_count": 31,
     "metadata": {},
     "output_type": "execute_result"
    }
   ],
   "source": [
    "c=np.array([[-3,-3]])\n",
    "c.shape"
   ]
  },
  {
   "cell_type": "code",
   "execution_count": 18,
   "metadata": {},
   "outputs": [],
   "source": [
    "X= -2 * np.random.rand(100,2)\n",
    "X1 = 1 + 2 * np.random.rand(50,2)\n",
    "X[50:100, :] = X1"
   ]
  },
  {
   "cell_type": "code",
   "execution_count": 36,
   "metadata": {},
   "outputs": [],
   "source": [
    "X= -2 * np.random.rand(100,2)\n",
    "X1 = 1 + 2 * np.random.rand(50,2)"
   ]
  },
  {
   "cell_type": "code",
   "execution_count": 43,
   "metadata": {
    "scrolled": true
   },
   "outputs": [
    {
     "data": {
      "text/plain": [
       "array([[1.06667017, 1.08415559],\n",
       "       [1.87090828, 2.979433  ],\n",
       "       [2.99970099, 2.41649407],\n",
       "       [2.34197852, 2.46177264],\n",
       "       [1.62236589, 1.83328539],\n",
       "       [2.82533477, 1.06831403],\n",
       "       [2.27478137, 2.19647092],\n",
       "       [1.27885649, 1.44086001],\n",
       "       [2.77149391, 2.83218529],\n",
       "       [1.88729931, 1.58526774],\n",
       "       [2.92351898, 2.94576739],\n",
       "       [1.2580697 , 1.64475513],\n",
       "       [1.8607668 , 2.45830481],\n",
       "       [1.47365401, 1.14148475],\n",
       "       [2.89992885, 2.27916223],\n",
       "       [2.28015956, 2.04556303],\n",
       "       [2.85498337, 2.89327434],\n",
       "       [1.73686429, 2.72337227],\n",
       "       [2.22454764, 1.99001362],\n",
       "       [2.53309475, 1.69316692],\n",
       "       [1.9894612 , 2.69189888],\n",
       "       [1.52806542, 1.81970422],\n",
       "       [2.75459248, 2.63639385],\n",
       "       [2.02720963, 2.18525297],\n",
       "       [2.19752505, 2.11658036],\n",
       "       [2.71626757, 2.71698521],\n",
       "       [2.87818309, 1.55764898],\n",
       "       [2.72031583, 2.0347256 ],\n",
       "       [1.072896  , 1.08194843],\n",
       "       [1.70734631, 2.1910651 ],\n",
       "       [1.89437542, 2.92247624],\n",
       "       [2.12065125, 1.34086793],\n",
       "       [1.87711415, 2.92564844],\n",
       "       [2.18403055, 1.05305923],\n",
       "       [1.32321502, 1.57989874],\n",
       "       [2.0715645 , 2.89636621],\n",
       "       [2.90405782, 1.49653656],\n",
       "       [1.53115168, 2.94245907],\n",
       "       [1.57444652, 2.10269413],\n",
       "       [1.75112003, 2.00431562],\n",
       "       [1.45842071, 2.72447302],\n",
       "       [1.82239597, 1.39830864],\n",
       "       [2.78279051, 1.51320962],\n",
       "       [1.15076131, 2.88508774],\n",
       "       [2.10495064, 1.15888264],\n",
       "       [2.9073826 , 2.93409366],\n",
       "       [2.80130169, 2.19071654],\n",
       "       [2.04994894, 1.35548629],\n",
       "       [1.70248128, 2.90369445],\n",
       "       [2.31019545, 2.41527679]])"
      ]
     },
     "execution_count": 43,
     "metadata": {},
     "output_type": "execute_result"
    }
   ],
   "source": [
    "X[50:100, :]"
   ]
  },
  {
   "cell_type": "code",
   "execution_count": 44,
   "metadata": {
    "scrolled": true
   },
   "outputs": [
    {
     "data": {
      "text/plain": [
       "array([[1.06667017, 1.08415559],\n",
       "       [1.87090828, 2.979433  ],\n",
       "       [2.99970099, 2.41649407],\n",
       "       [2.34197852, 2.46177264],\n",
       "       [1.62236589, 1.83328539],\n",
       "       [2.82533477, 1.06831403],\n",
       "       [2.27478137, 2.19647092],\n",
       "       [1.27885649, 1.44086001],\n",
       "       [2.77149391, 2.83218529],\n",
       "       [1.88729931, 1.58526774],\n",
       "       [2.92351898, 2.94576739],\n",
       "       [1.2580697 , 1.64475513],\n",
       "       [1.8607668 , 2.45830481],\n",
       "       [1.47365401, 1.14148475],\n",
       "       [2.89992885, 2.27916223],\n",
       "       [2.28015956, 2.04556303],\n",
       "       [2.85498337, 2.89327434],\n",
       "       [1.73686429, 2.72337227],\n",
       "       [2.22454764, 1.99001362],\n",
       "       [2.53309475, 1.69316692],\n",
       "       [1.9894612 , 2.69189888],\n",
       "       [1.52806542, 1.81970422],\n",
       "       [2.75459248, 2.63639385],\n",
       "       [2.02720963, 2.18525297],\n",
       "       [2.19752505, 2.11658036],\n",
       "       [2.71626757, 2.71698521],\n",
       "       [2.87818309, 1.55764898],\n",
       "       [2.72031583, 2.0347256 ],\n",
       "       [1.072896  , 1.08194843],\n",
       "       [1.70734631, 2.1910651 ],\n",
       "       [1.89437542, 2.92247624],\n",
       "       [2.12065125, 1.34086793],\n",
       "       [1.87711415, 2.92564844],\n",
       "       [2.18403055, 1.05305923],\n",
       "       [1.32321502, 1.57989874],\n",
       "       [2.0715645 , 2.89636621],\n",
       "       [2.90405782, 1.49653656],\n",
       "       [1.53115168, 2.94245907],\n",
       "       [1.57444652, 2.10269413],\n",
       "       [1.75112003, 2.00431562],\n",
       "       [1.45842071, 2.72447302],\n",
       "       [1.82239597, 1.39830864],\n",
       "       [2.78279051, 1.51320962],\n",
       "       [1.15076131, 2.88508774],\n",
       "       [2.10495064, 1.15888264],\n",
       "       [2.9073826 , 2.93409366],\n",
       "       [2.80130169, 2.19071654],\n",
       "       [2.04994894, 1.35548629],\n",
       "       [1.70248128, 2.90369445],\n",
       "       [2.31019545, 2.41527679]])"
      ]
     },
     "execution_count": 44,
     "metadata": {},
     "output_type": "execute_result"
    }
   ],
   "source": [
    "X1"
   ]
  },
  {
   "cell_type": "code",
   "execution_count": 20,
   "metadata": {},
   "outputs": [
    {
     "data": {
      "image/png": "[encoded data removed]",
      "text/plain": [
       "<Figure size 432x288 with 1 Axes>"
      ]
     },
     "metadata": {
      "needs_background": "light"
     },
     "output_type": "display_data"
    }
   ],
   "source": [
    "plt.scatter(X[ : , 0], X[ :, 1], s = 50, c = 'b')\n",
    "plt.show()"
   ]
  },
  {
   "cell_type": "code",
   "execution_count": 21,
   "metadata": {},
   "outputs": [],
   "source": [
    "from sklearn.cluster import KMeans"
   ]
  },
  {
   "cell_type": "code",
   "execution_count": 22,
   "metadata": {},
   "outputs": [
    {
     "data": {
      "text/plain": [
       "KMeans(algorithm='auto', copy_x=True, init='k-means++', max_iter=300,\n",
       "       n_clusters=2, n_init=10, n_jobs=None, precompute_distances='auto',\n",
       "       random_state=None, tol=0.0001, verbose=0)"
      ]
     },
     "execution_count": 22,
     "metadata": {},
     "output_type": "execute_result"
    }
   ],
   "source": [
    "Kmean = KMeans(n_clusters=2)\n",
    "Kmean.fit(X)"
   ]
  },
  {
   "cell_type": "code",
   "execution_count": 23,
   "metadata": {},
   "outputs": [
    {
     "data": {
      "text/plain": [
       "array([[-1.14872141, -0.94067291],\n",
       "       [ 1.89949315,  1.97472547]])"
      ]
     },
     "execution_count": 23,
     "metadata": {},
     "output_type": "execute_result"
    }
   ],
   "source": [
    "Kmean.cluster_centers_"
   ]
  },
  {
   "cell_type": "code",
   "execution_count": 45,
   "metadata": {},
   "outputs": [
    {
     "data": {
      "image/png": "[encoded data removed]",
      "text/plain": [
       "<Figure size 432x288 with 1 Axes>"
      ]
     },
     "metadata": {
      "needs_background": "light"
     },
     "output_type": "display_data"
    }
   ],
   "source": [
    "plt.scatter(X[ : , 0], X[ : , 1], s =50, c='b')\n",
    "plt.scatter(-1.14872141, -0.94067291, s=200, c='g', marker='^')\n",
    "plt.scatter(1.89949315, 1.97472547, s=200, c='r', marker='^')\n",
    "plt.show()"
   ]
  },
  {
   "cell_type": "code",
   "execution_count": 25,
   "metadata": {},
   "outputs": [
    {
     "data": {
      "text/plain": [
       "array([0, 0, 0, 0, 0, 0, 0, 0, 0, 0, 0, 0, 0, 0, 0, 0, 0, 0, 0, 0, 0, 0,\n",
       "       0, 0, 0, 0, 0, 0, 0, 0, 0, 0, 0, 0, 0, 0, 0, 0, 0, 0, 0, 0, 0, 0,\n",
       "       0, 0, 0, 0, 0, 0, 1, 1, 1, 1, 1, 1, 1, 1, 1, 1, 1, 1, 1, 1, 1, 1,\n",
       "       1, 1, 1, 1, 1, 1, 1, 1, 1, 1, 1, 1, 1, 1, 1, 1, 1, 1, 1, 1, 1, 1,\n",
       "       1, 1, 1, 1, 1, 1, 1, 1, 1, 1, 1, 1])"
      ]
     },
     "execution_count": 25,
     "metadata": {},
     "output_type": "execute_result"
    }
   ],
   "source": [
    "Kmean.labels_"
   ]
  },
  {
   "cell_type": "code",
   "execution_count": 26,
   "metadata": {},
   "outputs": [
    {
     "data": {
      "text/plain": [
       "array([0])"
      ]
     },
     "execution_count": 26,
     "metadata": {},
     "output_type": "execute_result"
    }
   ],
   "source": [
    "sample_test=np.array([-3.0,-3.0])\n",
    "second_test=sample_test.reshape(1, -1)\n",
    "Kmean.predict(second_test)"
   ]
  }
 ],
 "metadata": {
  "kernelspec": {
   "display_name": "Python 3",
   "language": "python",
   "name": "python3"
  },
  "language_info": {
   "codemirror_mode": {
    "name": "ipython",
    "version": 3
   },
   "file_extension": ".py",
   "mimetype": "text/x-python",
   "name": "python",
   "nbconvert_exporter": "python",
   "pygments_lexer": "ipython3",
   "version": "3.8.0"
  }
 },
 "nbformat": 4,
 "nbformat_minor": 4
}
