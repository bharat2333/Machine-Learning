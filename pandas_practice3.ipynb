{
 "cells": [
  {
   "cell_type": "code",
   "execution_count": 111,
   "metadata": {},
   "outputs": [],
   "source": [
    "import pandas as pd\n",
    "import datetime\n",
    "from dateutil.relativedelta import relativedelta"
   ]
  },
  {
   "cell_type": "code",
   "execution_count": 112,
   "metadata": {},
   "outputs": [],
   "source": [
    "df=pd.read_csv('F:\\Python Prac\\sales_data_sample.csv',usecols=['ORDERDATE','QUANTITYORDERED','SALES','PRODUCTLINE','PRODUCTCODE','CITY','STATE','POSTALCODE','COUNTRY'],parse_dates=['ORDERDATE'])"
   ]
  },
  {
   "cell_type": "code",
   "execution_count": 113,
   "metadata": {},
   "outputs": [],
   "source": [
    "month=df.groupby(['ORDERDATE','PRODUCTLINE','PRODUCTCODE','CITY','STATE','POSTALCODE','COUNTRY']).agg({'SALES':'sum','QUANTITYORDERED':'mean'})"
   ]
  },
  {
   "cell_type": "code",
   "execution_count": 114,
   "metadata": {},
   "outputs": [],
   "source": [
    "year=df.groupby(['ORDERDATE','PRODUCTLINE','PRODUCTCODE','CITY','STATE','POSTALCODE','COUNTRY']).agg({'SALES':'sum','QUANTITYORDERED':'mean'})"
   ]
  },
  {
   "cell_type": "code",
   "execution_count": 115,
   "metadata": {},
   "outputs": [],
   "source": [
    "month.reset_index(inplace=True)"
   ]
  },
  {
   "cell_type": "code",
   "execution_count": 116,
   "metadata": {},
   "outputs": [],
   "source": [
    "year.reset_index(inplace=True)"
   ]
  },
  {
   "cell_type": "code",
   "execution_count": 117,
   "metadata": {},
   "outputs": [],
   "source": [
    "def monthBeginDate(row):\n",
    "    return datetime.date(row['ORDERDATE'].year,row['ORDERDATE'].month,1)"
   ]
  },
  {
   "cell_type": "code",
   "execution_count": 118,
   "metadata": {},
   "outputs": [],
   "source": [
    "def yearBeginDate(row):\n",
    "    return datetime.date(row['ORDERDATE'].year,1,1)"
   ]
  },
  {
   "cell_type": "code",
   "execution_count": 119,
   "metadata": {},
   "outputs": [],
   "source": [
    "month['monthBeginDate']=month.apply(monthBeginDate,axis=1)"
   ]
  },
  {
   "cell_type": "code",
   "execution_count": 120,
   "metadata": {},
   "outputs": [],
   "source": [
    "year['yearBeginDate']=year.apply(yearBeginDate,axis=1)"
   ]
  },
  {
   "cell_type": "code",
   "execution_count": 121,
   "metadata": {},
   "outputs": [],
   "source": [
    "month_1=month.groupby(['monthBeginDate','PRODUCTLINE','PRODUCTCODE','CITY','STATE','POSTALCODE','COUNTRY']).agg({'SALES':'sum','QUANTITYORDERED':'mean'})"
   ]
  },
  {
   "cell_type": "code",
   "execution_count": 122,
   "metadata": {},
   "outputs": [],
   "source": [
    "year_1=year.groupby(['yearBeginDate','PRODUCTLINE','PRODUCTCODE','CITY','STATE','POSTALCODE','COUNTRY']).agg({'SALES':'sum','QUANTITYORDERED':'mean'})"
   ]
  },
  {
   "cell_type": "code",
   "execution_count": 123,
   "metadata": {},
   "outputs": [],
   "source": [
    "month_1.reset_index(inplace=True)"
   ]
  },
  {
   "cell_type": "code",
   "execution_count": 124,
   "metadata": {},
   "outputs": [],
   "source": [
    "year_1.reset_index(inplace=True)"
   ]
  },
  {
   "cell_type": "code",
   "execution_count": 125,
   "metadata": {},
   "outputs": [],
   "source": [
    "month_1=month_1.rename(columns={'monthBeginDate':'ORDERDATE'})"
   ]
  },
  {
   "cell_type": "code",
   "execution_count": 126,
   "metadata": {},
   "outputs": [],
   "source": [
    "year_1=year_1.rename(columns={'yearBeginDate':'ORDERDATE'})"
   ]
  },
  {
   "cell_type": "code",
   "execution_count": 127,
   "metadata": {},
   "outputs": [],
   "source": [
    "month_2=month_1.groupby(['ORDERDATE','COUNTRY','PRODUCTLINE']).agg({'SALES':'sum','QUANTITYORDERED':'mean'})"
   ]
  },
  {
   "cell_type": "code",
   "execution_count": 128,
   "metadata": {},
   "outputs": [],
   "source": [
    "year_2=year_1.groupby(['ORDERDATE','COUNTRY','PRODUCTLINE']).agg({'SALES':'sum','QUANTITYORDERED':'mean'})"
   ]
  },
  {
   "cell_type": "code",
   "execution_count": 129,
   "metadata": {},
   "outputs": [],
   "source": [
    "month_2.reset_index(inplace=True)"
   ]
  },
  {
   "cell_type": "code",
   "execution_count": 130,
   "metadata": {},
   "outputs": [],
   "source": [
    "year_2.reset_index(inplace=True)"
   ]
  },
  {
   "cell_type": "code",
   "execution_count": 131,
   "metadata": {},
   "outputs": [],
   "source": [
    "pstDateM=month_2['ORDERDATE'].max()"
   ]
  },
  {
   "cell_type": "code",
   "execution_count": 132,
   "metadata": {},
   "outputs": [],
   "source": [
    "pstDateY=year_2['ORDERDATE'].max()"
   ]
  },
  {
   "cell_type": "code",
   "execution_count": 133,
   "metadata": {},
   "outputs": [],
   "source": [
    "preDateM=pstDateM-relativedelta(months=1)"
   ]
  },
  {
   "cell_type": "code",
   "execution_count": 134,
   "metadata": {},
   "outputs": [],
   "source": [
    "preDateY=pstDateY-relativedelta(years=1)"
   ]
  },
  {
   "cell_type": "code",
   "execution_count": 135,
   "metadata": {},
   "outputs": [],
   "source": [
    "pstMonth=month_2[month_2['ORDERDATE']==pstDateM]"
   ]
  },
  {
   "cell_type": "code",
   "execution_count": 136,
   "metadata": {},
   "outputs": [],
   "source": [
    "preMonth=month_2[month_2['ORDERDATE']==preDateM]"
   ]
  },
  {
   "cell_type": "code",
   "execution_count": 137,
   "metadata": {},
   "outputs": [],
   "source": [
    "pstYear=year_2[year_2['ORDERDATE']==pstDateY]"
   ]
  },
  {
   "cell_type": "code",
   "execution_count": 138,
   "metadata": {},
   "outputs": [],
   "source": [
    "preYear=year_2[year_2['ORDERDATE']==preDateY]"
   ]
  },
  {
   "cell_type": "code",
   "execution_count": 139,
   "metadata": {},
   "outputs": [],
   "source": [
    "merged_dataM=pd.merge(preMonth,pstMonth,how='outer',on='COUNTRY')[['COUNTRY','PRODUCTLINE_x','SALES_x','PRODUCTLINE_y','SALES_y']].fillna(0)"
   ]
  },
  {
   "cell_type": "code",
   "execution_count": 140,
   "metadata": {},
   "outputs": [],
   "source": [
    "merged_dataY=pd.merge(preYear,pstYear,how='outer',on='COUNTRY')[['COUNTRY','PRODUCTLINE_x','SALES_x','PRODUCTLINE_y','SALES_y']].fillna(0)"
   ]
  },
  {
   "cell_type": "code",
   "execution_count": 141,
   "metadata": {},
   "outputs": [],
   "source": [
    "d1=merged_dataM.groupby(['COUNTRY']).agg({'SALES_x':'sum','SALES_y':'sum'})"
   ]
  },
  {
   "cell_type": "code",
   "execution_count": 142,
   "metadata": {},
   "outputs": [],
   "source": [
    "d2=merged_dataY.groupby(['COUNTRY']).agg({'SALES_x':'sum','SALES_y':'sum'})"
   ]
  },
  {
   "cell_type": "code",
   "execution_count": 143,
   "metadata": {},
   "outputs": [],
   "source": [
    "d1['increased']=d1['SALES_y']-d1['SALES_x']"
   ]
  },
  {
   "cell_type": "code",
   "execution_count": 144,
   "metadata": {},
   "outputs": [],
   "source": [
    "d2['increased']=d2['SALES_y']-d2['SALES_x']"
   ]
  },
  {
   "cell_type": "code",
   "execution_count": 160,
   "metadata": {},
   "outputs": [
    {
     "data": {
      "text/html": [
       "<div>\n",
       "<style scoped>\n",
       "    .dataframe tbody tr th:only-of-type {\n",
       "        vertical-align: middle;\n",
       "    }\n",
       "\n",
       "    .dataframe tbody tr th {\n",
       "        vertical-align: top;\n",
       "    }\n",
       "\n",
       "    .dataframe thead th {\n",
       "        text-align: right;\n",
       "    }\n",
       "</style>\n",
       "<table border=\"1\" class=\"dataframe\">\n",
       "  <thead>\n",
       "    <tr style=\"text-align: right;\">\n",
       "      <th></th>\n",
       "      <th>SALES_x</th>\n",
       "      <th>SALES_y</th>\n",
       "      <th>increased</th>\n",
       "    </tr>\n",
       "    <tr>\n",
       "      <th>COUNTRY</th>\n",
       "      <th></th>\n",
       "      <th></th>\n",
       "      <th></th>\n",
       "    </tr>\n",
       "  </thead>\n",
       "  <tbody>\n",
       "    <tr>\n",
       "      <th>Australia</th>\n",
       "      <td>0.00</td>\n",
       "      <td>58349.52</td>\n",
       "      <td>58349.52</td>\n",
       "    </tr>\n",
       "    <tr>\n",
       "      <th>Austria</th>\n",
       "      <td>0.00</td>\n",
       "      <td>59475.10</td>\n",
       "      <td>59475.10</td>\n",
       "    </tr>\n",
       "    <tr>\n",
       "      <th>Belgium</th>\n",
       "      <td>0.00</td>\n",
       "      <td>8411.95</td>\n",
       "      <td>8411.95</td>\n",
       "    </tr>\n",
       "    <tr>\n",
       "      <th>Canada</th>\n",
       "      <td>0.00</td>\n",
       "      <td>33692.97</td>\n",
       "      <td>33692.97</td>\n",
       "    </tr>\n",
       "    <tr>\n",
       "      <th>Denmark</th>\n",
       "      <td>26012.87</td>\n",
       "      <td>0.00</td>\n",
       "      <td>-26012.87</td>\n",
       "    </tr>\n",
       "    <tr>\n",
       "      <th>France</th>\n",
       "      <td>99494.30</td>\n",
       "      <td>87569.38</td>\n",
       "      <td>-11924.92</td>\n",
       "    </tr>\n",
       "    <tr>\n",
       "      <th>Italy</th>\n",
       "      <td>0.00</td>\n",
       "      <td>41509.94</td>\n",
       "      <td>41509.94</td>\n",
       "    </tr>\n",
       "    <tr>\n",
       "      <th>Japan</th>\n",
       "      <td>553.95</td>\n",
       "      <td>0.00</td>\n",
       "      <td>-553.95</td>\n",
       "    </tr>\n",
       "    <tr>\n",
       "      <th>Singapore</th>\n",
       "      <td>2587.58</td>\n",
       "      <td>0.00</td>\n",
       "      <td>-2587.58</td>\n",
       "    </tr>\n",
       "    <tr>\n",
       "      <th>Spain</th>\n",
       "      <td>0.00</td>\n",
       "      <td>119242.98</td>\n",
       "      <td>119242.98</td>\n",
       "    </tr>\n",
       "    <tr>\n",
       "      <th>UK</th>\n",
       "      <td>40802.81</td>\n",
       "      <td>0.00</td>\n",
       "      <td>-40802.81</td>\n",
       "    </tr>\n",
       "    <tr>\n",
       "      <th>USA</th>\n",
       "      <td>567715.72</td>\n",
       "      <td>466969.55</td>\n",
       "      <td>-100746.17</td>\n",
       "    </tr>\n",
       "  </tbody>\n",
       "</table>\n",
       "</div>"
      ],
      "text/plain": [
       "             SALES_x    SALES_y  increased\n",
       "COUNTRY                                   \n",
       "Australia       0.00   58349.52   58349.52\n",
       "Austria         0.00   59475.10   59475.10\n",
       "Belgium         0.00    8411.95    8411.95\n",
       "Canada          0.00   33692.97   33692.97\n",
       "Denmark     26012.87       0.00  -26012.87\n",
       "France      99494.30   87569.38  -11924.92\n",
       "Italy           0.00   41509.94   41509.94\n",
       "Japan         553.95       0.00    -553.95\n",
       "Singapore    2587.58       0.00   -2587.58\n",
       "Spain           0.00  119242.98  119242.98\n",
       "UK          40802.81       0.00  -40802.81\n",
       "USA        567715.72  466969.55 -100746.17"
      ]
     },
     "execution_count": 160,
     "metadata": {},
     "output_type": "execute_result"
    }
   ],
   "source": [
    "d1"
   ]
  },
  {
   "cell_type": "code",
   "execution_count": 163,
   "metadata": {},
   "outputs": [
    {
     "data": {
      "text/html": [
       "<div>\n",
       "<style scoped>\n",
       "    .dataframe tbody tr th:only-of-type {\n",
       "        vertical-align: middle;\n",
       "    }\n",
       "\n",
       "    .dataframe tbody tr th {\n",
       "        vertical-align: top;\n",
       "    }\n",
       "\n",
       "    .dataframe thead th {\n",
       "        text-align: right;\n",
       "    }\n",
       "</style>\n",
       "<table border=\"1\" class=\"dataframe\">\n",
       "  <thead>\n",
       "    <tr style=\"text-align: right;\">\n",
       "      <th></th>\n",
       "      <th>SALES_x</th>\n",
       "      <th>SALES_y</th>\n",
       "      <th>increased</th>\n",
       "    </tr>\n",
       "    <tr>\n",
       "      <th>COUNTRY</th>\n",
       "      <th></th>\n",
       "      <th></th>\n",
       "      <th></th>\n",
       "    </tr>\n",
       "  </thead>\n",
       "  <tbody>\n",
       "    <tr>\n",
       "      <th>Australia</th>\n",
       "      <td>1394380.08</td>\n",
       "      <td>870551.82</td>\n",
       "      <td>-523828.26</td>\n",
       "    </tr>\n",
       "    <tr>\n",
       "      <th>Austria</th>\n",
       "      <td>103388.78</td>\n",
       "      <td>273001.04</td>\n",
       "      <td>169612.26</td>\n",
       "    </tr>\n",
       "    <tr>\n",
       "      <th>Belgium</th>\n",
       "      <td>188775.06</td>\n",
       "      <td>125200.55</td>\n",
       "      <td>-63574.51</td>\n",
       "    </tr>\n",
       "    <tr>\n",
       "      <th>Canada</th>\n",
       "      <td>452771.04</td>\n",
       "      <td>435931.08</td>\n",
       "      <td>-16839.96</td>\n",
       "    </tr>\n",
       "    <tr>\n",
       "      <th>Denmark</th>\n",
       "      <td>120431.56</td>\n",
       "      <td>156077.22</td>\n",
       "      <td>35645.66</td>\n",
       "    </tr>\n",
       "    <tr>\n",
       "      <th>Finland</th>\n",
       "      <td>589992.55</td>\n",
       "      <td>380555.13</td>\n",
       "      <td>-209437.42</td>\n",
       "    </tr>\n",
       "    <tr>\n",
       "      <th>France</th>\n",
       "      <td>3886390.90</td>\n",
       "      <td>1700694.80</td>\n",
       "      <td>-2185696.10</td>\n",
       "    </tr>\n",
       "    <tr>\n",
       "      <th>Germany</th>\n",
       "      <td>150418.78</td>\n",
       "      <td>0.00</td>\n",
       "      <td>-150418.78</td>\n",
       "    </tr>\n",
       "    <tr>\n",
       "      <th>Ireland</th>\n",
       "      <td>72699.52</td>\n",
       "      <td>0.00</td>\n",
       "      <td>-72699.52</td>\n",
       "    </tr>\n",
       "    <tr>\n",
       "      <th>Italy</th>\n",
       "      <td>576706.80</td>\n",
       "      <td>249059.64</td>\n",
       "      <td>-327647.16</td>\n",
       "    </tr>\n",
       "    <tr>\n",
       "      <th>Japan</th>\n",
       "      <td>701404.88</td>\n",
       "      <td>232472.04</td>\n",
       "      <td>-468932.84</td>\n",
       "    </tr>\n",
       "    <tr>\n",
       "      <th>Norway</th>\n",
       "      <td>110931.10</td>\n",
       "      <td>0.00</td>\n",
       "      <td>-110931.10</td>\n",
       "    </tr>\n",
       "    <tr>\n",
       "      <th>Philippines</th>\n",
       "      <td>15928.75</td>\n",
       "      <td>0.00</td>\n",
       "      <td>-15928.75</td>\n",
       "    </tr>\n",
       "    <tr>\n",
       "      <th>Singapore</th>\n",
       "      <td>232078.06</td>\n",
       "      <td>20289.54</td>\n",
       "      <td>-211788.52</td>\n",
       "    </tr>\n",
       "    <tr>\n",
       "      <th>Spain</th>\n",
       "      <td>3384817.52</td>\n",
       "      <td>2287587.19</td>\n",
       "      <td>-1097230.33</td>\n",
       "    </tr>\n",
       "    <tr>\n",
       "      <th>Sweden</th>\n",
       "      <td>239895.14</td>\n",
       "      <td>158033.60</td>\n",
       "      <td>-81861.54</td>\n",
       "    </tr>\n",
       "    <tr>\n",
       "      <th>Switzerland</th>\n",
       "      <td>117713.56</td>\n",
       "      <td>0.00</td>\n",
       "      <td>-117713.56</td>\n",
       "    </tr>\n",
       "    <tr>\n",
       "      <th>UK</th>\n",
       "      <td>257656.10</td>\n",
       "      <td>204014.05</td>\n",
       "      <td>-53642.05</td>\n",
       "    </tr>\n",
       "    <tr>\n",
       "      <th>USA</th>\n",
       "      <td>11798294.83</td>\n",
       "      <td>4461549.82</td>\n",
       "      <td>-7336745.01</td>\n",
       "    </tr>\n",
       "  </tbody>\n",
       "</table>\n",
       "</div>"
      ],
      "text/plain": [
       "                 SALES_x     SALES_y   increased\n",
       "COUNTRY                                         \n",
       "Australia     1394380.08   870551.82  -523828.26\n",
       "Austria        103388.78   273001.04   169612.26\n",
       "Belgium        188775.06   125200.55   -63574.51\n",
       "Canada         452771.04   435931.08   -16839.96\n",
       "Denmark        120431.56   156077.22    35645.66\n",
       "Finland        589992.55   380555.13  -209437.42\n",
       "France        3886390.90  1700694.80 -2185696.10\n",
       "Germany        150418.78        0.00  -150418.78\n",
       "Ireland         72699.52        0.00   -72699.52\n",
       "Italy          576706.80   249059.64  -327647.16\n",
       "Japan          701404.88   232472.04  -468932.84\n",
       "Norway         110931.10        0.00  -110931.10\n",
       "Philippines     15928.75        0.00   -15928.75\n",
       "Singapore      232078.06    20289.54  -211788.52\n",
       "Spain         3384817.52  2287587.19 -1097230.33\n",
       "Sweden         239895.14   158033.60   -81861.54\n",
       "Switzerland    117713.56        0.00  -117713.56\n",
       "UK             257656.10   204014.05   -53642.05\n",
       "USA          11798294.83  4461549.82 -7336745.01"
      ]
     },
     "execution_count": 163,
     "metadata": {},
     "output_type": "execute_result"
    }
   ],
   "source": [
    "d2"
   ]
  },
  {
   "cell_type": "code",
   "execution_count": 158,
   "metadata": {},
   "outputs": [
    {
     "data": {
      "text/html": [
       "<div>\n",
       "<style scoped>\n",
       "    .dataframe tbody tr th:only-of-type {\n",
       "        vertical-align: middle;\n",
       "    }\n",
       "\n",
       "    .dataframe tbody tr th {\n",
       "        vertical-align: top;\n",
       "    }\n",
       "\n",
       "    .dataframe thead th {\n",
       "        text-align: right;\n",
       "    }\n",
       "</style>\n",
       "<table border=\"1\" class=\"dataframe\">\n",
       "  <thead>\n",
       "    <tr style=\"text-align: right;\">\n",
       "      <th></th>\n",
       "      <th>SALES_x</th>\n",
       "      <th>SALES_y</th>\n",
       "      <th>increased</th>\n",
       "    </tr>\n",
       "    <tr>\n",
       "      <th>COUNTRY</th>\n",
       "      <th></th>\n",
       "      <th></th>\n",
       "      <th></th>\n",
       "    </tr>\n",
       "  </thead>\n",
       "  <tbody>\n",
       "    <tr>\n",
       "      <th>Denmark</th>\n",
       "      <td>26012.87</td>\n",
       "      <td>0.00</td>\n",
       "      <td>-26012.87</td>\n",
       "    </tr>\n",
       "    <tr>\n",
       "      <th>France</th>\n",
       "      <td>99494.30</td>\n",
       "      <td>87569.38</td>\n",
       "      <td>-11924.92</td>\n",
       "    </tr>\n",
       "    <tr>\n",
       "      <th>Japan</th>\n",
       "      <td>553.95</td>\n",
       "      <td>0.00</td>\n",
       "      <td>-553.95</td>\n",
       "    </tr>\n",
       "    <tr>\n",
       "      <th>Singapore</th>\n",
       "      <td>2587.58</td>\n",
       "      <td>0.00</td>\n",
       "      <td>-2587.58</td>\n",
       "    </tr>\n",
       "    <tr>\n",
       "      <th>UK</th>\n",
       "      <td>40802.81</td>\n",
       "      <td>0.00</td>\n",
       "      <td>-40802.81</td>\n",
       "    </tr>\n",
       "    <tr>\n",
       "      <th>USA</th>\n",
       "      <td>567715.72</td>\n",
       "      <td>466969.55</td>\n",
       "      <td>-100746.17</td>\n",
       "    </tr>\n",
       "  </tbody>\n",
       "</table>\n",
       "</div>"
      ],
      "text/plain": [
       "             SALES_x    SALES_y  increased\n",
       "COUNTRY                                   \n",
       "Denmark     26012.87       0.00  -26012.87\n",
       "France      99494.30   87569.38  -11924.92\n",
       "Japan         553.95       0.00    -553.95\n",
       "Singapore    2587.58       0.00   -2587.58\n",
       "UK          40802.81       0.00  -40802.81\n",
       "USA        567715.72  466969.55 -100746.17"
      ]
     },
     "execution_count": 158,
     "metadata": {},
     "output_type": "execute_result"
    }
   ],
   "source": [
    "d1.loc[(d1.increased<=0)]"
   ]
  }
 ],
 "metadata": {
  "kernelspec": {
   "display_name": "Python 3",
   "language": "python",
   "name": "python3"
  },
  "language_info": {
   "codemirror_mode": {
    "name": "ipython",
    "version": 3
   },
   "file_extension": ".py",
   "mimetype": "text/x-python",
   "name": "python",
   "nbconvert_exporter": "python",
   "pygments_lexer": "ipython3",
   "version": "3.8.0"
  }
 },
 "nbformat": 4,
 "nbformat_minor": 4
}
