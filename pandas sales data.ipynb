{
 "cells": [
  {
   "cell_type": "code",
   "execution_count": 3,
   "metadata": {},
   "outputs": [],
   "source": [
    "import pandas as pd\n",
    "import numpy as np\n",
    "from datetime import datetime as dt\n",
    "from dateutil import relativedelta"
   ]
  },
  {
   "cell_type": "code",
   "execution_count": 21,
   "metadata": {},
   "outputs": [],
   "source": [
    "sales_data=pd.read_csv(\"F:\\Python Prac\\sales_data_sample.csv\",usecols=[\"ORDERNUMBER\",\"SALES\",\"ORDERDATE\",\"YEAR_ID\",\\\n",
    "                                                                       \"PRODUCTCODE\",\"CITY\",\"COUNTRY\",\\\n",
    "                                                                       \"POSTALCODE\"],parse_dates=['ORDERDATE'])"
   ]
  },
  {
   "cell_type": "code",
   "execution_count": 22,
   "metadata": {},
   "outputs": [
    {
     "data": {
      "text/html": [
       "<div>\n",
       "<style scoped>\n",
       "    .dataframe tbody tr th:only-of-type {\n",
       "        vertical-align: middle;\n",
       "    }\n",
       "\n",
       "    .dataframe tbody tr th {\n",
       "        vertical-align: top;\n",
       "    }\n",
       "\n",
       "    .dataframe thead th {\n",
       "        text-align: right;\n",
       "    }\n",
       "</style>\n",
       "<table border=\"1\" class=\"dataframe\">\n",
       "  <thead>\n",
       "    <tr style=\"text-align: right;\">\n",
       "      <th></th>\n",
       "      <th>ORDERNUMBER</th>\n",
       "      <th>SALES</th>\n",
       "      <th>ORDERDATE</th>\n",
       "      <th>YEAR_ID</th>\n",
       "      <th>PRODUCTCODE</th>\n",
       "      <th>CITY</th>\n",
       "      <th>POSTALCODE</th>\n",
       "      <th>COUNTRY</th>\n",
       "    </tr>\n",
       "  </thead>\n",
       "  <tbody>\n",
       "    <tr>\n",
       "      <th>0</th>\n",
       "      <td>10107</td>\n",
       "      <td>2871.00</td>\n",
       "      <td>2003-02-24</td>\n",
       "      <td>2003</td>\n",
       "      <td>S10_1678</td>\n",
       "      <td>NYC</td>\n",
       "      <td>10022</td>\n",
       "      <td>USA</td>\n",
       "    </tr>\n",
       "    <tr>\n",
       "      <th>1</th>\n",
       "      <td>10121</td>\n",
       "      <td>2765.90</td>\n",
       "      <td>2003-05-07</td>\n",
       "      <td>2003</td>\n",
       "      <td>S10_1678</td>\n",
       "      <td>Reims</td>\n",
       "      <td>51100</td>\n",
       "      <td>France</td>\n",
       "    </tr>\n",
       "    <tr>\n",
       "      <th>2</th>\n",
       "      <td>10134</td>\n",
       "      <td>3884.34</td>\n",
       "      <td>2003-07-01</td>\n",
       "      <td>2003</td>\n",
       "      <td>S10_1678</td>\n",
       "      <td>Paris</td>\n",
       "      <td>75508</td>\n",
       "      <td>France</td>\n",
       "    </tr>\n",
       "    <tr>\n",
       "      <th>3</th>\n",
       "      <td>10145</td>\n",
       "      <td>3746.70</td>\n",
       "      <td>2003-08-25</td>\n",
       "      <td>2003</td>\n",
       "      <td>S10_1678</td>\n",
       "      <td>Pasadena</td>\n",
       "      <td>90003</td>\n",
       "      <td>USA</td>\n",
       "    </tr>\n",
       "    <tr>\n",
       "      <th>4</th>\n",
       "      <td>10159</td>\n",
       "      <td>5205.27</td>\n",
       "      <td>2003-10-10</td>\n",
       "      <td>2003</td>\n",
       "      <td>S10_1678</td>\n",
       "      <td>San Francisco</td>\n",
       "      <td>NaN</td>\n",
       "      <td>USA</td>\n",
       "    </tr>\n",
       "    <tr>\n",
       "      <th>...</th>\n",
       "      <td>...</td>\n",
       "      <td>...</td>\n",
       "      <td>...</td>\n",
       "      <td>...</td>\n",
       "      <td>...</td>\n",
       "      <td>...</td>\n",
       "      <td>...</td>\n",
       "      <td>...</td>\n",
       "    </tr>\n",
       "    <tr>\n",
       "      <th>2818</th>\n",
       "      <td>10350</td>\n",
       "      <td>2244.40</td>\n",
       "      <td>2004-12-02</td>\n",
       "      <td>2004</td>\n",
       "      <td>S72_3212</td>\n",
       "      <td>Madrid</td>\n",
       "      <td>28034</td>\n",
       "      <td>Spain</td>\n",
       "    </tr>\n",
       "    <tr>\n",
       "      <th>2819</th>\n",
       "      <td>10373</td>\n",
       "      <td>3978.51</td>\n",
       "      <td>2005-01-31</td>\n",
       "      <td>2005</td>\n",
       "      <td>S72_3212</td>\n",
       "      <td>Oulu</td>\n",
       "      <td>90110</td>\n",
       "      <td>Finland</td>\n",
       "    </tr>\n",
       "    <tr>\n",
       "      <th>2820</th>\n",
       "      <td>10386</td>\n",
       "      <td>5417.57</td>\n",
       "      <td>2005-03-01</td>\n",
       "      <td>2005</td>\n",
       "      <td>S72_3212</td>\n",
       "      <td>Madrid</td>\n",
       "      <td>28034</td>\n",
       "      <td>Spain</td>\n",
       "    </tr>\n",
       "    <tr>\n",
       "      <th>2821</th>\n",
       "      <td>10397</td>\n",
       "      <td>2116.16</td>\n",
       "      <td>2005-03-28</td>\n",
       "      <td>2005</td>\n",
       "      <td>S72_3212</td>\n",
       "      <td>Toulouse</td>\n",
       "      <td>31000</td>\n",
       "      <td>France</td>\n",
       "    </tr>\n",
       "    <tr>\n",
       "      <th>2822</th>\n",
       "      <td>10414</td>\n",
       "      <td>3079.44</td>\n",
       "      <td>2005-05-06</td>\n",
       "      <td>2005</td>\n",
       "      <td>S72_3212</td>\n",
       "      <td>Boston</td>\n",
       "      <td>51003</td>\n",
       "      <td>USA</td>\n",
       "    </tr>\n",
       "  </tbody>\n",
       "</table>\n",
       "<p>2823 rows × 8 columns</p>\n",
       "</div>"
      ],
      "text/plain": [
       "      ORDERNUMBER    SALES  ORDERDATE  YEAR_ID PRODUCTCODE           CITY  \\\n",
       "0           10107  2871.00 2003-02-24     2003    S10_1678            NYC   \n",
       "1           10121  2765.90 2003-05-07     2003    S10_1678          Reims   \n",
       "2           10134  3884.34 2003-07-01     2003    S10_1678          Paris   \n",
       "3           10145  3746.70 2003-08-25     2003    S10_1678       Pasadena   \n",
       "4           10159  5205.27 2003-10-10     2003    S10_1678  San Francisco   \n",
       "...           ...      ...        ...      ...         ...            ...   \n",
       "2818        10350  2244.40 2004-12-02     2004    S72_3212         Madrid   \n",
       "2819        10373  3978.51 2005-01-31     2005    S72_3212           Oulu   \n",
       "2820        10386  5417.57 2005-03-01     2005    S72_3212         Madrid   \n",
       "2821        10397  2116.16 2005-03-28     2005    S72_3212       Toulouse   \n",
       "2822        10414  3079.44 2005-05-06     2005    S72_3212         Boston   \n",
       "\n",
       "     POSTALCODE  COUNTRY  \n",
       "0         10022      USA  \n",
       "1         51100   France  \n",
       "2         75508   France  \n",
       "3         90003      USA  \n",
       "4           NaN      USA  \n",
       "...         ...      ...  \n",
       "2818      28034    Spain  \n",
       "2819      90110  Finland  \n",
       "2820      28034    Spain  \n",
       "2821      31000   France  \n",
       "2822      51003      USA  \n",
       "\n",
       "[2823 rows x 8 columns]"
      ]
     },
     "execution_count": 22,
     "metadata": {},
     "output_type": "execute_result"
    }
   ],
   "source": [
    "sales_data"
   ]
  },
  {
   "cell_type": "code",
   "execution_count": 23,
   "metadata": {},
   "outputs": [
    {
     "name": "stdout",
     "output_type": "stream",
     "text": [
      "unique elements : ['S10_1949' 'S10_4698' 'S18_1749' 'S50_1514' 'S700_1691']\n",
      "S10_1949     23\n",
      "S50_1514     22\n",
      "S10_4698     21\n",
      "S700_1691    21\n",
      "S18_1749     18\n",
      "Name: PRODUCTCODE, dtype: int64\n"
     ]
    }
   ],
   "source": [
    "step1=sales_data['YEAR_ID'].isin([2003,2004])\n",
    "step2=sales_data['PRODUCTCODE'].isin(['S18_1749','S10_1949','S10_4698','S700_1691','S50_1514'])\n",
    "tuned_df=sales_data[step1 & step2]\n",
    "print(\"unique elements :\",np.unique(tuned_df.PRODUCTCODE))\n",
    "print(tuned_df['PRODUCTCODE'].value_counts())"
   ]
  },
  {
   "cell_type": "code",
   "execution_count": 24,
   "metadata": {},
   "outputs": [
    {
     "data": {
      "text/html": [
       "<div>\n",
       "<style scoped>\n",
       "    .dataframe tbody tr th:only-of-type {\n",
       "        vertical-align: middle;\n",
       "    }\n",
       "\n",
       "    .dataframe tbody tr th {\n",
       "        vertical-align: top;\n",
       "    }\n",
       "\n",
       "    .dataframe thead th {\n",
       "        text-align: right;\n",
       "    }\n",
       "</style>\n",
       "<table border=\"1\" class=\"dataframe\">\n",
       "  <thead>\n",
       "    <tr style=\"text-align: right;\">\n",
       "      <th></th>\n",
       "      <th>ORDERNUMBER</th>\n",
       "      <th>SALES</th>\n",
       "      <th>ORDERDATE</th>\n",
       "      <th>YEAR_ID</th>\n",
       "      <th>PRODUCTCODE</th>\n",
       "      <th>CITY</th>\n",
       "      <th>POSTALCODE</th>\n",
       "      <th>COUNTRY</th>\n",
       "    </tr>\n",
       "  </thead>\n",
       "  <tbody>\n",
       "    <tr>\n",
       "      <th>26</th>\n",
       "      <td>10103</td>\n",
       "      <td>5404.62</td>\n",
       "      <td>2003-01-29</td>\n",
       "      <td>2003</td>\n",
       "      <td>S10_1949</td>\n",
       "      <td>Stavern</td>\n",
       "      <td>4110</td>\n",
       "      <td>Norway</td>\n",
       "    </tr>\n",
       "    <tr>\n",
       "      <th>27</th>\n",
       "      <td>10112</td>\n",
       "      <td>7209.11</td>\n",
       "      <td>2003-03-24</td>\n",
       "      <td>2003</td>\n",
       "      <td>S10_1949</td>\n",
       "      <td>Lule</td>\n",
       "      <td>S-958 22</td>\n",
       "      <td>Sweden</td>\n",
       "    </tr>\n",
       "    <tr>\n",
       "      <th>28</th>\n",
       "      <td>10126</td>\n",
       "      <td>7329.06</td>\n",
       "      <td>2003-05-28</td>\n",
       "      <td>2003</td>\n",
       "      <td>S10_1949</td>\n",
       "      <td>Madrid</td>\n",
       "      <td>28023</td>\n",
       "      <td>Spain</td>\n",
       "    </tr>\n",
       "    <tr>\n",
       "      <th>29</th>\n",
       "      <td>10140</td>\n",
       "      <td>7374.10</td>\n",
       "      <td>2003-07-24</td>\n",
       "      <td>2003</td>\n",
       "      <td>S10_1949</td>\n",
       "      <td>Burlingame</td>\n",
       "      <td>94217</td>\n",
       "      <td>USA</td>\n",
       "    </tr>\n",
       "    <tr>\n",
       "      <th>30</th>\n",
       "      <td>10150</td>\n",
       "      <td>10993.50</td>\n",
       "      <td>2003-09-19</td>\n",
       "      <td>2003</td>\n",
       "      <td>S10_1949</td>\n",
       "      <td>Singapore</td>\n",
       "      <td>79903</td>\n",
       "      <td>Singapore</td>\n",
       "    </tr>\n",
       "    <tr>\n",
       "      <th>...</th>\n",
       "      <td>...</td>\n",
       "      <td>...</td>\n",
       "      <td>...</td>\n",
       "      <td>...</td>\n",
       "      <td>...</td>\n",
       "      <td>...</td>\n",
       "      <td>...</td>\n",
       "      <td>...</td>\n",
       "    </tr>\n",
       "    <tr>\n",
       "      <th>2499</th>\n",
       "      <td>10316</td>\n",
       "      <td>2795.14</td>\n",
       "      <td>2004-11-01</td>\n",
       "      <td>2004</td>\n",
       "      <td>S700_1691</td>\n",
       "      <td>Cowes</td>\n",
       "      <td>PO31 7PJ</td>\n",
       "      <td>UK</td>\n",
       "    </tr>\n",
       "    <tr>\n",
       "      <th>2500</th>\n",
       "      <td>10328</td>\n",
       "      <td>2762.10</td>\n",
       "      <td>2004-11-12</td>\n",
       "      <td>2004</td>\n",
       "      <td>S700_1691</td>\n",
       "      <td>Bergamo</td>\n",
       "      <td>24100</td>\n",
       "      <td>Italy</td>\n",
       "    </tr>\n",
       "    <tr>\n",
       "      <th>2501</th>\n",
       "      <td>10340</td>\n",
       "      <td>2658.00</td>\n",
       "      <td>2004-11-24</td>\n",
       "      <td>2004</td>\n",
       "      <td>S700_1691</td>\n",
       "      <td>Barcelona</td>\n",
       "      <td>8022</td>\n",
       "      <td>Spain</td>\n",
       "    </tr>\n",
       "    <tr>\n",
       "      <th>2502</th>\n",
       "      <td>10353</td>\n",
       "      <td>5043.87</td>\n",
       "      <td>2004-12-04</td>\n",
       "      <td>2004</td>\n",
       "      <td>S700_1691</td>\n",
       "      <td>Glendale</td>\n",
       "      <td>97561</td>\n",
       "      <td>USA</td>\n",
       "    </tr>\n",
       "    <tr>\n",
       "      <th>2503</th>\n",
       "      <td>10361</td>\n",
       "      <td>1210.80</td>\n",
       "      <td>2004-12-17</td>\n",
       "      <td>2004</td>\n",
       "      <td>S700_1691</td>\n",
       "      <td>Chatswood</td>\n",
       "      <td>2067</td>\n",
       "      <td>Australia</td>\n",
       "    </tr>\n",
       "  </tbody>\n",
       "</table>\n",
       "<p>105 rows × 8 columns</p>\n",
       "</div>"
      ],
      "text/plain": [
       "      ORDERNUMBER     SALES  ORDERDATE  YEAR_ID PRODUCTCODE        CITY  \\\n",
       "26          10103   5404.62 2003-01-29     2003    S10_1949     Stavern   \n",
       "27          10112   7209.11 2003-03-24     2003    S10_1949        Lule   \n",
       "28          10126   7329.06 2003-05-28     2003    S10_1949      Madrid   \n",
       "29          10140   7374.10 2003-07-24     2003    S10_1949  Burlingame   \n",
       "30          10150  10993.50 2003-09-19     2003    S10_1949   Singapore   \n",
       "...           ...       ...        ...      ...         ...         ...   \n",
       "2499        10316   2795.14 2004-11-01     2004   S700_1691       Cowes   \n",
       "2500        10328   2762.10 2004-11-12     2004   S700_1691     Bergamo   \n",
       "2501        10340   2658.00 2004-11-24     2004   S700_1691   Barcelona   \n",
       "2502        10353   5043.87 2004-12-04     2004   S700_1691    Glendale   \n",
       "2503        10361   1210.80 2004-12-17     2004   S700_1691   Chatswood   \n",
       "\n",
       "     POSTALCODE    COUNTRY  \n",
       "26         4110     Norway  \n",
       "27     S-958 22     Sweden  \n",
       "28        28023      Spain  \n",
       "29        94217        USA  \n",
       "30        79903  Singapore  \n",
       "...         ...        ...  \n",
       "2499   PO31 7PJ         UK  \n",
       "2500      24100      Italy  \n",
       "2501       8022      Spain  \n",
       "2502      97561        USA  \n",
       "2503       2067  Australia  \n",
       "\n",
       "[105 rows x 8 columns]"
      ]
     },
     "execution_count": 24,
     "metadata": {},
     "output_type": "execute_result"
    }
   ],
   "source": [
    "tuned_df"
   ]
  },
  {
   "cell_type": "code",
   "execution_count": 25,
   "metadata": {},
   "outputs": [
    {
     "name": "stderr",
     "output_type": "stream",
     "text": [
      "<ipython-input-25-7ddf88fdfa82>:2: SettingWithCopyWarning: \n",
      "A value is trying to be set on a copy of a slice from a DataFrame.\n",
      "Try using .loc[row_indexer,col_indexer] = value instead\n",
      "\n",
      "See the caveats in the documentation: https://pandas.pydata.org/pandas-docs/stable/user_guide/indexing.html#returning-a-view-versus-a-copy\n",
      "  tuned_df['YEAR_ID']=tuned_df['YEAR_ID']+16\n",
      "<ipython-input-25-7ddf88fdfa82>:3: SettingWithCopyWarning: \n",
      "A value is trying to be set on a copy of a slice from a DataFrame.\n",
      "Try using .loc[row_indexer,col_indexer] = value instead\n",
      "\n",
      "See the caveats in the documentation: https://pandas.pydata.org/pandas-docs/stable/user_guide/indexing.html#returning-a-view-versus-a-copy\n",
      "  tuned_df['ORDERDATE']=tuned_df['ORDERDATE']+pd.offsets.DateOffset(years=16)\n"
     ]
    }
   ],
   "source": [
    "#tuned_df[\"ORDERDATE\"]=pd.to_datetime(tuned_df.ORDERDATE).astype('datetime64[ns]')\n",
    "tuned_df['YEAR_ID']=tuned_df['YEAR_ID']+16\n",
    "tuned_df['ORDERDATE']=tuned_df['ORDERDATE']+pd.offsets.DateOffset(years=16)\n",
    "#tuned_df[\"ORDERDATE\"]=pd.to_datetime(tuned_df.ORDERDATE).dt.strftime(\"%d-%m-%Y\")"
   ]
  },
  {
   "cell_type": "code",
   "execution_count": 9,
   "metadata": {},
   "outputs": [
    {
     "data": {
      "text/plain": [
       "ORDERNUMBER             int64\n",
       "SALES                 float64\n",
       "ORDERDATE      datetime64[ns]\n",
       "YEAR_ID                 int64\n",
       "PRODUCTCODE            object\n",
       "CITY                   object\n",
       "POSTALCODE             object\n",
       "COUNTRY                object\n",
       "dtype: object"
      ]
     },
     "execution_count": 9,
     "metadata": {},
     "output_type": "execute_result"
    }
   ],
   "source": [
    "tuned_df.dtypes"
   ]
  },
  {
   "cell_type": "code",
   "execution_count": 10,
   "metadata": {},
   "outputs": [],
   "source": [
    "#tuned_df['MONTH']=tuned_df['ORDERDATE'].dt.strftime('%B')"
   ]
  },
  {
   "cell_type": "code",
   "execution_count": 11,
   "metadata": {},
   "outputs": [],
   "source": [
    "#tuned_df.groupby(tuned_df['MONTH'])['SALES'].sum().sort_values()"
   ]
  },
  {
   "cell_type": "code",
   "execution_count": 12,
   "metadata": {},
   "outputs": [],
   "source": [
    "#tuned_df.set_index(['ORDERDATE'],inplace=True)\n",
    "#monthly = tuned_df.SALES.resample('Q').sum()"
   ]
  },
  {
   "cell_type": "code",
   "execution_count": 26,
   "metadata": {},
   "outputs": [],
   "source": [
    "tuned_df1=tuned_df[['ORDERDATE','SALES']]"
   ]
  },
  {
   "cell_type": "code",
   "execution_count": 27,
   "metadata": {},
   "outputs": [],
   "source": [
    "monthly=tuned_df1.groupby(pd.Grouper(key='ORDERDATE', freq='M')).sum()\n",
    "yearly=tuned_df1.groupby(pd.Grouper(key='ORDERDATE', freq='Y')).sum()\n",
    "quarterly=tuned_df1.groupby(pd.Grouper(key='ORDERDATE', freq='Q')).sum()"
   ]
  },
  {
   "cell_type": "code",
   "execution_count": 28,
   "metadata": {},
   "outputs": [
    {
     "data": {
      "text/html": [
       "<div>\n",
       "<style scoped>\n",
       "    .dataframe tbody tr th:only-of-type {\n",
       "        vertical-align: middle;\n",
       "    }\n",
       "\n",
       "    .dataframe tbody tr th {\n",
       "        vertical-align: top;\n",
       "    }\n",
       "\n",
       "    .dataframe thead th {\n",
       "        text-align: right;\n",
       "    }\n",
       "</style>\n",
       "<table border=\"1\" class=\"dataframe\">\n",
       "  <thead>\n",
       "    <tr style=\"text-align: right;\">\n",
       "      <th></th>\n",
       "      <th>SALES</th>\n",
       "    </tr>\n",
       "    <tr>\n",
       "      <th>ORDERDATE</th>\n",
       "      <th></th>\n",
       "    </tr>\n",
       "  </thead>\n",
       "  <tbody>\n",
       "    <tr>\n",
       "      <th>2019-01-31</th>\n",
       "      <td>12261.54</td>\n",
       "    </tr>\n",
       "    <tr>\n",
       "      <th>2019-02-28</th>\n",
       "      <td>9378.52</td>\n",
       "    </tr>\n",
       "    <tr>\n",
       "      <th>2019-03-31</th>\n",
       "      <td>13278.11</td>\n",
       "    </tr>\n",
       "    <tr>\n",
       "      <th>2019-04-30</th>\n",
       "      <td>14162.14</td>\n",
       "    </tr>\n",
       "    <tr>\n",
       "      <th>2019-05-31</th>\n",
       "      <td>10185.06</td>\n",
       "    </tr>\n",
       "    <tr>\n",
       "      <th>2019-06-30</th>\n",
       "      <td>5042.88</td>\n",
       "    </tr>\n",
       "    <tr>\n",
       "      <th>2019-07-31</th>\n",
       "      <td>14398.08</td>\n",
       "    </tr>\n",
       "    <tr>\n",
       "      <th>2019-08-31</th>\n",
       "      <td>11213.52</td>\n",
       "    </tr>\n",
       "    <tr>\n",
       "      <th>2019-09-30</th>\n",
       "      <td>18148.61</td>\n",
       "    </tr>\n",
       "    <tr>\n",
       "      <th>2019-10-31</th>\n",
       "      <td>35916.36</td>\n",
       "    </tr>\n",
       "    <tr>\n",
       "      <th>2019-11-30</th>\n",
       "      <td>58767.81</td>\n",
       "    </tr>\n",
       "    <tr>\n",
       "      <th>2019-12-31</th>\n",
       "      <td>27011.04</td>\n",
       "    </tr>\n",
       "    <tr>\n",
       "      <th>2020-01-31</th>\n",
       "      <td>21783.55</td>\n",
       "    </tr>\n",
       "    <tr>\n",
       "      <th>2020-02-29</th>\n",
       "      <td>14364.98</td>\n",
       "    </tr>\n",
       "    <tr>\n",
       "      <th>2020-03-31</th>\n",
       "      <td>12418.05</td>\n",
       "    </tr>\n",
       "    <tr>\n",
       "      <th>2020-04-30</th>\n",
       "      <td>17201.45</td>\n",
       "    </tr>\n",
       "    <tr>\n",
       "      <th>2020-05-31</th>\n",
       "      <td>19158.76</td>\n",
       "    </tr>\n",
       "    <tr>\n",
       "      <th>2020-06-30</th>\n",
       "      <td>19378.78</td>\n",
       "    </tr>\n",
       "    <tr>\n",
       "      <th>2020-07-31</th>\n",
       "      <td>17114.89</td>\n",
       "    </tr>\n",
       "    <tr>\n",
       "      <th>2020-08-31</th>\n",
       "      <td>21587.23</td>\n",
       "    </tr>\n",
       "    <tr>\n",
       "      <th>2020-09-30</th>\n",
       "      <td>25918.78</td>\n",
       "    </tr>\n",
       "    <tr>\n",
       "      <th>2020-10-31</th>\n",
       "      <td>41059.09</td>\n",
       "    </tr>\n",
       "    <tr>\n",
       "      <th>2020-11-30</th>\n",
       "      <td>56826.30</td>\n",
       "    </tr>\n",
       "    <tr>\n",
       "      <th>2020-12-31</th>\n",
       "      <td>20060.64</td>\n",
       "    </tr>\n",
       "  </tbody>\n",
       "</table>\n",
       "</div>"
      ],
      "text/plain": [
       "               SALES\n",
       "ORDERDATE           \n",
       "2019-01-31  12261.54\n",
       "2019-02-28   9378.52\n",
       "2019-03-31  13278.11\n",
       "2019-04-30  14162.14\n",
       "2019-05-31  10185.06\n",
       "2019-06-30   5042.88\n",
       "2019-07-31  14398.08\n",
       "2019-08-31  11213.52\n",
       "2019-09-30  18148.61\n",
       "2019-10-31  35916.36\n",
       "2019-11-30  58767.81\n",
       "2019-12-31  27011.04\n",
       "2020-01-31  21783.55\n",
       "2020-02-29  14364.98\n",
       "2020-03-31  12418.05\n",
       "2020-04-30  17201.45\n",
       "2020-05-31  19158.76\n",
       "2020-06-30  19378.78\n",
       "2020-07-31  17114.89\n",
       "2020-08-31  21587.23\n",
       "2020-09-30  25918.78\n",
       "2020-10-31  41059.09\n",
       "2020-11-30  56826.30\n",
       "2020-12-31  20060.64"
      ]
     },
     "execution_count": 28,
     "metadata": {},
     "output_type": "execute_result"
    }
   ],
   "source": [
    "monthly"
   ]
  },
  {
   "cell_type": "code",
   "execution_count": 29,
   "metadata": {},
   "outputs": [
    {
     "data": {
      "text/html": [
       "<div>\n",
       "<style scoped>\n",
       "    .dataframe tbody tr th:only-of-type {\n",
       "        vertical-align: middle;\n",
       "    }\n",
       "\n",
       "    .dataframe tbody tr th {\n",
       "        vertical-align: top;\n",
       "    }\n",
       "\n",
       "    .dataframe thead th {\n",
       "        text-align: right;\n",
       "    }\n",
       "</style>\n",
       "<table border=\"1\" class=\"dataframe\">\n",
       "  <thead>\n",
       "    <tr style=\"text-align: right;\">\n",
       "      <th></th>\n",
       "      <th>SALES</th>\n",
       "    </tr>\n",
       "    <tr>\n",
       "      <th>ORDERDATE</th>\n",
       "      <th></th>\n",
       "    </tr>\n",
       "  </thead>\n",
       "  <tbody>\n",
       "    <tr>\n",
       "      <th>2019-03-31</th>\n",
       "      <td>34918.17</td>\n",
       "    </tr>\n",
       "    <tr>\n",
       "      <th>2019-06-30</th>\n",
       "      <td>29390.08</td>\n",
       "    </tr>\n",
       "    <tr>\n",
       "      <th>2019-09-30</th>\n",
       "      <td>43760.21</td>\n",
       "    </tr>\n",
       "    <tr>\n",
       "      <th>2019-12-31</th>\n",
       "      <td>121695.21</td>\n",
       "    </tr>\n",
       "    <tr>\n",
       "      <th>2020-03-31</th>\n",
       "      <td>48566.58</td>\n",
       "    </tr>\n",
       "    <tr>\n",
       "      <th>2020-06-30</th>\n",
       "      <td>55738.99</td>\n",
       "    </tr>\n",
       "    <tr>\n",
       "      <th>2020-09-30</th>\n",
       "      <td>64620.90</td>\n",
       "    </tr>\n",
       "    <tr>\n",
       "      <th>2020-12-31</th>\n",
       "      <td>117946.03</td>\n",
       "    </tr>\n",
       "  </tbody>\n",
       "</table>\n",
       "</div>"
      ],
      "text/plain": [
       "                SALES\n",
       "ORDERDATE            \n",
       "2019-03-31   34918.17\n",
       "2019-06-30   29390.08\n",
       "2019-09-30   43760.21\n",
       "2019-12-31  121695.21\n",
       "2020-03-31   48566.58\n",
       "2020-06-30   55738.99\n",
       "2020-09-30   64620.90\n",
       "2020-12-31  117946.03"
      ]
     },
     "execution_count": 29,
     "metadata": {},
     "output_type": "execute_result"
    }
   ],
   "source": [
    "quarterly"
   ]
  },
  {
   "cell_type": "code",
   "execution_count": 30,
   "metadata": {},
   "outputs": [
    {
     "data": {
      "text/html": [
       "<div>\n",
       "<style scoped>\n",
       "    .dataframe tbody tr th:only-of-type {\n",
       "        vertical-align: middle;\n",
       "    }\n",
       "\n",
       "    .dataframe tbody tr th {\n",
       "        vertical-align: top;\n",
       "    }\n",
       "\n",
       "    .dataframe thead th {\n",
       "        text-align: right;\n",
       "    }\n",
       "</style>\n",
       "<table border=\"1\" class=\"dataframe\">\n",
       "  <thead>\n",
       "    <tr style=\"text-align: right;\">\n",
       "      <th></th>\n",
       "      <th>SALES</th>\n",
       "    </tr>\n",
       "    <tr>\n",
       "      <th>ORDERDATE</th>\n",
       "      <th></th>\n",
       "    </tr>\n",
       "  </thead>\n",
       "  <tbody>\n",
       "    <tr>\n",
       "      <th>2019-12-31</th>\n",
       "      <td>229763.67</td>\n",
       "    </tr>\n",
       "    <tr>\n",
       "      <th>2020-12-31</th>\n",
       "      <td>286872.50</td>\n",
       "    </tr>\n",
       "  </tbody>\n",
       "</table>\n",
       "</div>"
      ],
      "text/plain": [
       "                SALES\n",
       "ORDERDATE            \n",
       "2019-12-31  229763.67\n",
       "2020-12-31  286872.50"
      ]
     },
     "execution_count": 30,
     "metadata": {},
     "output_type": "execute_result"
    }
   ],
   "source": [
    "yearly"
   ]
  },
  {
   "cell_type": "code",
   "execution_count": 31,
   "metadata": {},
   "outputs": [
    {
     "data": {
      "text/plain": [
       "<matplotlib.axes._subplots.AxesSubplot at 0x1ddf69a14f0>"
      ]
     },
     "execution_count": 31,
     "metadata": {},
     "output_type": "execute_result"
    },
    {
     "data": {
      "image/png": "[encoded data removed]",
      "text/plain": [
       "<Figure size 720x432 with 1 Axes>"
      ]
     },
     "metadata": {
      "needs_background": "light"
     },
     "output_type": "display_data"
    }
   ],
   "source": [
    "monthly.plot(kind='bar',figsize=(10,6))"
   ]
  },
  {
   "cell_type": "code",
   "execution_count": 32,
   "metadata": {},
   "outputs": [
    {
     "data": {
      "text/plain": [
       "<matplotlib.axes._subplots.AxesSubplot at 0x1ddf9df1580>"
      ]
     },
     "execution_count": 32,
     "metadata": {},
     "output_type": "execute_result"
    },
    {
     "data": {
      "image/png": "[encoded data removed]",
      "text/plain": [
       "<Figure size 720x432 with 1 Axes>"
      ]
     },
     "metadata": {
      "needs_background": "light"
     },
     "output_type": "display_data"
    }
   ],
   "source": [
    "quarterly.plot(kind='bar',figsize=(10,6))"
   ]
  },
  {
   "cell_type": "code",
   "execution_count": 33,
   "metadata": {},
   "outputs": [
    {
     "data": {
      "text/plain": [
       "<matplotlib.axes._subplots.AxesSubplot at 0x1ddf9cf2e80>"
      ]
     },
     "execution_count": 33,
     "metadata": {},
     "output_type": "execute_result"
    },
    {
     "data": {
      "image/png": "[encoded data removed]",
      "text/plain": [
       "<Figure size 432x288 with 1 Axes>"
      ]
     },
     "metadata": {
      "needs_background": "light"
     },
     "output_type": "display_data"
    }
   ],
   "source": [
    "yearly.plot(kind='bar')"
   ]
  }
 ],
 "metadata": {
  "kernelspec": {
   "display_name": "Python 3",
   "language": "python",
   "name": "python3"
  },
  "language_info": {
   "codemirror_mode": {
    "name": "ipython",
    "version": 3
   },
   "file_extension": ".py",
   "mimetype": "text/x-python",
   "name": "python",
   "nbconvert_exporter": "python",
   "pygments_lexer": "ipython3",
   "version": "3.8.0"
  }
 },
 "nbformat": 4,
 "nbformat_minor": 4
}
